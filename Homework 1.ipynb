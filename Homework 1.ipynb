{
 "cells": [
  {
   "cell_type": "markdown",
   "id": "edea50d0-d680-48c0-98d7-94480b29a977",
   "metadata": {},
   "source": [
    "Exercise 1\n",
    "Write a program that:\n",
    "Asks the user for their current age.\n",
    "Calculates and displays their age 10 years from now."
   ]
  },
  {
   "cell_type": "code",
   "execution_count": 11,
   "id": "4576f870-14f5-484b-8d38-de521affba6a",
   "metadata": {},
   "outputs": [
    {
     "name": "stdin",
     "output_type": "stream",
     "text": [
      "ingresa tu nombre: PABLO\n",
      "Ingresa tu edad actual: 25\n"
     ]
    },
    {
     "name": "stdout",
     "output_type": "stream",
     "text": [
      "¡Hola, PABLO!\n",
      "En 10 años tendras 35 años\n"
     ]
    }
   ],
   "source": [
    "#Edad_futura\n",
    "Nombre = input(\"ingresa tu nombre:\")\n",
    "Edad = int(input (\"Ingresa tu edad actual:\"))\n",
    "Edad_futura = Edad+10\n",
    "print(\"¡Hola, \"+Nombre+\"!\")\n",
    "print(\"En 10 años tendras\",Edad_futura,\"años\")"
   ]
  },
  {
   "cell_type": "markdown",
   "id": "15e61a92-25dd-42b7-b159-0f1eaebdf366",
   "metadata": {},
   "source": [
    "Exercise 2\n",
    "Write a program that:\n",
    "Asks the user for their favorite color, food, and hobby.\n",
    "Outputs a summary sentence using their inputs."
   ]
  },
  {
   "cell_type": "code",
   "execution_count": 23,
   "id": "0c22f018-4a3a-4079-bf87-100dc2f017c2",
   "metadata": {},
   "outputs": [
    {
     "name": "stdin",
     "output_type": "stream",
     "text": [
      "ingresa tu nombre: Pablo\n",
      "ingresa tu color favorito: Azul\n",
      "Ingresa tu comida favorita: Pizza\n",
      "Ingresa tu pasatiempo favorito: Nadar\n"
     ]
    },
    {
     "name": "stdout",
     "output_type": "stream",
     "text": [
      "!Hola,Pablo!\n",
      "Tu color favorito es Azul,tu comida preferida es Pizza y tu pasatiempo favorito es Nadar.\n"
     ]
    }
   ],
   "source": [
    "#Cosas_favoritas\n",
    "Nombre = input(\"ingresa tu nombre:\")\n",
    "Color = input(\"ingresa tu color favorito:\")\n",
    "Comida = input (\"Ingresa tu comida favorita:\")\n",
    "Hobbie = input (\"Ingresa tu pasatiempo favorito:\")\n",
    "\n",
    "print(\"!Hola,\"+Nombre+\"!\")\n",
    "\n",
    "print( \"Tu color favorito es \" + Color + \",tu comida preferida es \" +Comida + \" y tu pasatiempo favorito es \" + Hobbie +\".\")"
   ]
  },
  {
   "cell_type": "markdown",
   "id": "5e96f166-1025-4439-a754-f3b690787dc9",
   "metadata": {},
   "source": [
    "Exercise 3\n",
    "Write a program that:\n",
    "Prompts the user to enter a temperature in Celsius.\n",
    "Converts it to Fahrenheit and displays the result."
   ]
  },
  {
   "cell_type": "code",
   "execution_count": 27,
   "id": "98174123-ff03-4e91-bb28-20e33f66eb9f",
   "metadata": {},
   "outputs": [
    {
     "name": "stdin",
     "output_type": "stream",
     "text": [
      "Ingresa la temperatura en °Celcius 25\n"
     ]
    },
    {
     "name": "stdout",
     "output_type": "stream",
     "text": [
      "Tu temperatura en °F es:58.8\n"
     ]
    }
   ],
   "source": [
    "#Temperature\n",
    "Celcius = int( input (\"Ingresa la temperatura en °Celcius\"))\n",
    "Fahrenheit = (Celcius + 9/5)+32\n",
    "\n",
    "print(\"Tu temperatura en °F es:\" + str(Fahrenheit))"
   ]
  },
  {
   "cell_type": "code",
   "execution_count": null,
   "id": "6559b952-6ffd-4d8d-a8f9-08e55317b3a2",
   "metadata": {},
   "outputs": [],
   "source": [
    "Exercise 4\n",
    "Write a program that:\n",
    "Asks the user to guess a number between 1 and 10.\n",
    "Outputs whether the guess is correct (assume the number is 7 for this exercise)."
   ]
  },
  {
   "cell_type": "code",
   "execution_count": 43,
   "id": "1156cea8-9770-4a30-94d1-31d9b4fe1e0b",
   "metadata": {},
   "outputs": [
    {
     "name": "stdin",
     "output_type": "stream",
     "text": [
      "Escribe un numero del 1 al 10 7\n"
     ]
    },
    {
     "name": "stdout",
     "output_type": "stream",
     "text": [
      "¡Correcto!\n"
     ]
    }
   ],
   "source": [
    "#Adivinanza\n",
    "Number = int (input(\"Escribe un numero del 1 al 10\"))\n",
    "\n",
    "if Number == 7:\n",
    "    print (\"¡Correcto!\")\n",
    "else:\n",
    "    print( \"Sigue intentando\" )\n",
    "              "
   ]
  },
  {
   "cell_type": "code",
   "execution_count": null,
   "id": "ea45a61c-b04a-4d7b-9d93-6f47f08f2277",
   "metadata": {},
   "outputs": [],
   "source": [
    "Exercise 5\n",
    "Write a program that:\n",
    "Asks the user to input a word and a number.\n",
    "Prints the word repeated that number of times"
   ]
  },
  {
   "cell_type": "code",
   "execution_count": 49,
   "id": "48a8127c-6b11-42b7-ac4b-88a4308c5466",
   "metadata": {},
   "outputs": [
    {
     "name": "stdin",
     "output_type": "stream",
     "text": [
      "Escribe el nombre de un pais COL\n",
      "Escribe un numero 5\n"
     ]
    },
    {
     "name": "stdout",
     "output_type": "stream",
     "text": [
      "COL\n",
      "COL\n",
      "COL\n",
      "COL\n",
      "COL\n"
     ]
    }
   ],
   "source": [
    "#Repeticion\n",
    "Country = input (\"Escribe el nombre de un pais\" )\n",
    "Number = int (input (\"Escribe un numero\" ))\n",
    "\n",
    "for i in range (Number): \n",
    "    print (Country)"
   ]
  },
  {
   "cell_type": "markdown",
   "id": "d9c7db2f-73e9-4991-a30d-d994f884cd37",
   "metadata": {},
   "source": [
    "EXCERCISES 2"
   ]
  },
  {
   "cell_type": "markdown",
   "id": "0ead6c01-ab91-4696-b21b-ef83bdaea293",
   "metadata": {},
   "source": [
    "Exercise 1\n",
    "Write a program that:\n",
    "Asks the user to enter a sentence.\n",
    "Outputs the sentence in all uppercase, all lowercase, and with the first letter of each word capitalized."
   ]
  },
  {
   "cell_type": "code",
   "execution_count": 62,
   "id": "b1ad0fca-66b4-4241-aeca-8f05ab336422",
   "metadata": {},
   "outputs": [
    {
     "name": "stdin",
     "output_type": "stream",
     "text": [
      "Escribe una frase polpular Habia una vez \n"
     ]
    },
    {
     "name": "stdout",
     "output_type": "stream",
     "text": [
      "Mayuscula: HABIA UNA VEZ \n",
      "Minuscula: habia una vez \n",
      "intercal: Habia Una Vez \n"
     ]
    }
   ],
   "source": [
    "#Transformar oracion\n",
    "\n",
    "def transf_oracion (Frase):\n",
    "    mayusculas = Frase.upper()\n",
    "    minusculas = Frase.lower()\n",
    "    titulo = Frase.title()\n",
    "    return mayusculas, minusculas, titulo\n",
    "\n",
    "Frase = input (\"Escribe una frase polpular\")\n",
    "\n",
    "mayusculas, minusculas, titulo = transf_oracion(Frase)\n",
    "\n",
    "print(\"Mayuscula:\", mayusculas)   \n",
    "print(\"Minuscula:\", minusculas)   \n",
    "print(\"intercal:\", titulo)   "
   ]
  },
  {
   "cell_type": "markdown",
   "id": "d9b9b923-fe1b-4e83-a4fa-1f152e633a25",
   "metadata": {},
   "source": [
    "Exercise 2\n",
    "Write a program that:\n",
    "Asks the user to input two boolean values (True or False).\n",
    "Evaluates and displays the results of logical operations (and, or, not) between the two values."
   ]
  },
  {
   "cell_type": "code",
   "execution_count": 77,
   "id": "8dd22779-202f-4ec3-901b-e256b63b75d8",
   "metadata": {},
   "outputs": [
    {
     "name": "stdin",
     "output_type": "stream",
     "text": [
      "Responde true or false 1: true\n",
      "Responde true or false 2: false\n"
     ]
    },
    {
     "name": "stdout",
     "output_type": "stream",
     "text": [
      "Respuestas de operacion\n",
      "true AND false = false\n",
      "true OR false = true\n",
      "NOT true = False\n"
     ]
    }
   ],
   "source": [
    "Res_val1 = input(\"Responde true or false 1:\")\n",
    "Res_val2 = input(\"Responde true or false 2:\")\n",
    "\n",
    "And_answer = Res_val1 and Res_val2\n",
    "Or_answer = Res_val1 or Res_val2\n",
    "Not_answer = not Res_val1\n",
    "\n",
    "print (\"Respuestas de operacion\")\n",
    "print ( f\"{Res_val1} AND {Res_val2} = {And_answer}\")\n",
    "print ( f\"{Res_val1} OR {Res_val2} = {Or_answer}\")\n",
    "print ( f\"NOT {Res_val1} = {Not_answer}\")"
   ]
  }
 ],
 "metadata": {
  "kernelspec": {
   "display_name": "Python 3 (ipykernel)",
   "language": "python",
   "name": "python3"
  },
  "language_info": {
   "codemirror_mode": {
    "name": "ipython",
    "version": 3
   },
   "file_extension": ".py",
   "mimetype": "text/x-python",
   "name": "python",
   "nbconvert_exporter": "python",
   "pygments_lexer": "ipython3",
   "version": "3.13.1"
  }
 },
 "nbformat": 4,
 "nbformat_minor": 5
}

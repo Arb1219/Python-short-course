{
 "cells": [
  {
   "cell_type": "markdown",
   "id": "3782d130-6e4f-424c-8d05-45780d1d58c2",
   "metadata": {},
   "source": [
    "Exercise 2\n",
    "Write a program that:\n",
    "Prompts the user to input two numbers and an operator (+, -, *, /).\n",
    "Performs the operation and displays the result."
   ]
  },
  {
   "cell_type": "code",
   "execution_count": 1,
   "id": "1e21a9c9-0074-4aac-adce-726024c1865b",
   "metadata": {
    "scrolled": true
   },
   "outputs": [
    {
     "name": "stdin",
     "output_type": "stream",
     "text": [
      "Introduce un número:  5\n",
      "Introduce otro número:  2\n",
      "Introduce el símbolo de la operación (+, -, *, /):  +\n"
     ]
    },
    {
     "name": "stdout",
     "output_type": "stream",
     "text": [
      "El resultado es: 7.0\n"
     ]
    }
   ],
   "source": [
    "#operacion\n",
    "Number_1 = float(input(\"Introduce un número: \"))\n",
    "Number_2 = float(input(\"Introduce otro número: \"))\n",
    "Oper = input(\"Introduce el símbolo de la operación (+, -, *, /): \")\n",
    "\n",
    "if Oper == \"+\":\n",
    "    Resultado = Number_1 + Number_2\n",
    "elif Oper == \"-\":\n",
    "    Resultado = Number_1 - Number_2\n",
    "elif Oper == \"*\":\n",
    "    Resultado = Number_1 * Number_2\n",
    "elif Oper == \"/\":\n",
    "    if Number_2 != 0:\n",
    "        Resultado = Number_1 / Number_2\n",
    "    else:\n",
    "        Resultado = \"Error: División por cero\"\n",
    "else:\n",
    "    Resultado = \"Datos u operador incorrecto\"\n",
    "\n",
    "print(f\"El resultado es: {Resultado}\")"
   ]
  },
  {
   "cell_type": "markdown",
   "id": "92b03375-9336-48a0-b777-90d965073ca8",
   "metadata": {},
   "source": [
    "Exercise 1\n",
    "Write a program that:\n",
    "Asks the user for a year.\n",
    "Determines whether the year is a leap year.\n",
    "Hint: A leap year is divisible by 4 but not by 100 unless also divisible by 400."
   ]
  },
  {
   "cell_type": "code",
   "execution_count": 2,
   "id": "cb823990-b4fe-476e-b04c-1a100864c748",
   "metadata": {},
   "outputs": [
    {
     "name": "stdin",
     "output_type": "stream",
     "text": [
      "ingresa un año:  2021\n"
     ]
    },
    {
     "name": "stdout",
     "output_type": "stream",
     "text": [
      "El 2021 es año común\n"
     ]
    }
   ],
   "source": [
    "#AÑOBISIESTO\n",
    "año = int(input(\"ingresa un año: \"))\n",
    "if (año % 4 ==0 and año % 100 != 0) or (año %400 ==0) :\n",
    "    print(f\"El {año} es año Bisiesto\")\n",
    "else:\n",
    "    print(f\"El {año} es año común\")"
   ]
  },
  {
   "cell_type": "code",
   "execution_count": null,
   "id": "239a2bb2-44af-4ad2-a702-09d36f0ba3c9",
   "metadata": {},
   "outputs": [],
   "source": [
    "Exercise 3\n",
    "Write a program that:\n",
    "Prompts the user to input a number.\n",
    "Classifies the number as positive, negative, or zero."
   ]
  },
  {
   "cell_type": "code",
   "execution_count": 3,
   "id": "acead7d7-0c7c-4e9a-8f7c-d7bd913441fc",
   "metadata": {},
   "outputs": [
    {
     "name": "stdin",
     "output_type": "stream",
     "text": [
      "introduce un numero:  0\n"
     ]
    },
    {
     "name": "stdout",
     "output_type": "stream",
     "text": [
      "Zero\n"
     ]
    }
   ],
   "source": [
    "#Clasificacion \n",
    "\n",
    "Numero = float(input(\"introduce un numero: \"))\n",
    "if Numero >0:  \n",
    "    print (\"Numero positivo\")\n",
    "elif Numero <0: \n",
    "    print (\"Numero negativo\")\n",
    "else: \n",
    "    print (\"Zero\")\n",
    " "
   ]
  },
  {
   "cell_type": "markdown",
   "id": "91e2c911-c455-4460-8ffe-11b9466bb1cb",
   "metadata": {},
   "source": [
    "Exercise 4\n",
    "Write a program using match...case that:\n",
    "Asks the user to input a number (1-7).\n",
    "Outputs the corresponding day of the week (e.g., 1 for Monday, 7 for Sunday)."
   ]
  },
  {
   "cell_type": "code",
   "execution_count": 6,
   "id": "cfbee4cc-cd62-4d41-8ef8-b4bb35458fa6",
   "metadata": {},
   "outputs": [
    {
     "name": "stdin",
     "output_type": "stream",
     "text": [
      "Numero del dia:  5\n"
     ]
    },
    {
     "name": "stdout",
     "output_type": "stream",
     "text": [
      "Friday\n"
     ]
    }
   ],
   "source": [
    "#match case \n",
    "Number_day = int(input('Numero del dia: '))\n",
    "match Number_day:\n",
    "    case 1:\n",
    "        print('Monday')\n",
    "    case 2:\n",
    "        print('Tuesday')\n",
    "    case 3:\n",
    "        print('Wenesday')\n",
    "    case 4:\n",
    "        print('Thursday')\n",
    "    case 5:\n",
    "        print('Friday')\n",
    "    case 6:\n",
    "        print('Saturday')\n",
    "    case 7: \n",
    "        print('Sunday')\n",
    "    case _: ('Invalid Number')"
   ]
  },
  {
   "cell_type": "markdown",
   "id": "0395179f-e49f-42b5-b49b-2302c9e825d3",
   "metadata": {},
   "source": [
    "Exercise 5\n",
    "Write a program that:\n",
    "Prompts the user to input a single character.\n",
    "Determines if the character is a vowel, consonant, digit, or special character."
   ]
  },
  {
   "cell_type": "code",
   "execution_count": 10,
   "id": "e73a8e15-cfc7-4915-9915-36c16b7c38f5",
   "metadata": {},
   "outputs": [
    {
     "name": "stdin",
     "output_type": "stream",
     "text": [
      "Introduce un carcater:  *\n"
     ]
    },
    {
     "name": "stdout",
     "output_type": "stream",
     "text": [
      "The character '*' is a special character.\n"
     ]
    }
   ],
   "source": [
    "#Identificacion de caracter \n",
    "\n",
    "Caracter = input ('Introduce un carcater: ')\n",
    "if len(Caracter) != 1:\n",
    "    print(\"Por favor introduzca solo un caracter.\")\n",
    "\n",
    "else:\n",
    "    if Caracter.lower() in 'aeiou':\n",
    "        print(f\"El caracter '{Caracter}' es una vocal.\")\n",
    "    \n",
    "    elif Caracter.isalpha():\n",
    "         print(f\"El caracter '{Caracter}' es una consonante.\")\n",
    "    \n",
    "    elif Caracter.isdigit():\n",
    "      print(f\"El caracter '{Caracter}' es un digito.\")\n",
    "    \n",
    "    else:\n",
    "        print(f\"The character '{Caracter}' is a special character.\")"
   ]
  }
 ],
 "metadata": {
  "kernelspec": {
   "display_name": "Python 3 (ipykernel)",
   "language": "python",
   "name": "python3"
  },
  "language_info": {
   "codemirror_mode": {
    "name": "ipython",
    "version": 3
   },
   "file_extension": ".py",
   "mimetype": "text/x-python",
   "name": "python",
   "nbconvert_exporter": "python",
   "pygments_lexer": "ipython3",
   "version": "3.13.1"
  }
 },
 "nbformat": 4,
 "nbformat_minor": 5
}
